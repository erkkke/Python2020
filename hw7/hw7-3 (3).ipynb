{
 "cells": [
  {
   "cell_type": "code",
   "execution_count": 57,
   "metadata": {},
   "outputs": [
    {
     "output_type": "stream",
     "name": "stdout",
     "text": "(e) [ -0.7715076332465263 , 1.3732227356762545 ]\n(f) [ 0.07816463454516387 , 0.581835365454836 ]\n"
    }
   ],
   "source": [
    "import numpy as np\n",
    "import matplotlib.pyplot as plt\n",
    "import scipy.linalg as la\n",
    "from numpy import array\n",
    "from numpy import mean\n",
    "from numpy import var\n",
    "from scipy import stats\n",
    "\n",
    "x = array([0.3, 1.4, 1.0, -0.3, -0.2, 1.0, 2.0, -1.0, -0.7, 0.7])\n",
    "y = array([0.4, 0.9, 0.4, -0.3, 0.3, 0.8, 0.7, -0.4, -0.2, 0.7])\n",
    "\n",
    "result1 = mean(x)\n",
    "result2 = mean(y)\n",
    "a,b,c,d = 0,0,0,0 #total a = x**2 b=x*y c=(x-meanofx)**2 d=(b0+b1x-y)**2\n",
    "for i in range(10):\n",
    "    t1 = x[i]**2\n",
    "    a += t1\n",
    "    t2 = x[i]*y[i]\n",
    "    b += t2\n",
    "    t3 = (x[i]-result1)**2\n",
    "    c += t3\n",
    "b1 = (b - 10*result1*result2)/(a-10*result1**2)\n",
    "b0 = result2 - b1*result1\n",
    "for i in range(10):\n",
    "    t4 = (b0+b1*x[i]-y[i])**2\n",
    "    d += t4\n",
    "e=(d/8)**0.5\n",
    "#The required values are b0,b1,mean of x\n",
    "c0 = 5\n",
    "c1 = -1\n",
    "sxx = a - 10*(result1**2)\n",
    "f = 2.8\n",
    "#The 90% confidennce coefficient interval for 5b0-b1+4 is \n",
    "e1 = ((c0*b0)+(c1*b1)) - e * (((c0**2)/10 + ((c0*result1-c1)**2)/sxx)**0.5) * ((2*f)**0.5)\n",
    "e2 = ((c0*b0)+(c1*b1)) + e * (((c0**2)/10 + ((c0*result1-c1)**2)/sxx)**0.5) * ((2*f)**0.5)\n",
    "print(\"(e)\",\"[\",e1,\",\",e2,\"]\")\n",
    "#confidence interval with confidence coefficient 0.99 for the height of the regression line at the point x = 0.42\n",
    "fy = b0 + b1*result1\n",
    "t = 3.355\n",
    "fsx = sxx / 9\n",
    "f1 = fy - t * e * ((1/10)+((0.42-result1)**2)/fsx)**0.5\n",
    "f2 = fy + t * e * ((1/10)+((0.42-result1)**2)/fsx)**0.5\n",
    "print(\"(f)\",\"[\",f1,\",\",f2,\"]\")\n",
    "# c\n",
    "#substituting the value x=1 we get the height of the regression line at this point\n",
    "cy = b0 + b1*1\n"
   ]
  },
  {
   "cell_type": "code",
   "execution_count": null,
   "metadata": {},
   "outputs": [],
   "source": []
  }
 ],
 "metadata": {
  "kernelspec": {
   "display_name": "Python 3",
   "language": "python",
   "name": "python3"
  },
  "language_info": {
   "codemirror_mode": {
    "name": "ipython",
    "version": 3
   },
   "file_extension": ".py",
   "mimetype": "text/x-python",
   "name": "python",
   "nbconvert_exporter": "python",
   "pygments_lexer": "ipython3",
   "version": "3.7.6-final"
  }
 },
 "nbformat": 4,
 "nbformat_minor": 4
}