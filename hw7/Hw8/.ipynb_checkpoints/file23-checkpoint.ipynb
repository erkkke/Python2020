{
 "cells": [
  {
   "cell_type": "code",
   "execution_count": 2,
   "metadata": {},
   "outputs": [],
   "source": [
    "import matplotlib.pyplot as plt\n",
    "import math\n",
    "import numpy as np\n",
    "from sklearn.linear_model import LogisticRegression\n",
    "from sklearn.metrics import classification_report, confusion_matrix\n",
    "import pandas as pd\n",
    "from pandas import Series, DataFrame"
   ]
  },
  {
   "cell_type": "code",
   "execution_count": 8,
   "metadata": {},
   "outputs": [
    {
     "data": {
      "text/html": [
       "<div>\n",
       "<style scoped>\n",
       "    .dataframe tbody tr th:only-of-type {\n",
       "        vertical-align: middle;\n",
       "    }\n",
       "\n",
       "    .dataframe tbody tr th {\n",
       "        vertical-align: top;\n",
       "    }\n",
       "\n",
       "    .dataframe thead th {\n",
       "        text-align: right;\n",
       "    }\n",
       "</style>\n",
       "<table border=\"1\" class=\"dataframe\">\n",
       "  <thead>\n",
       "    <tr style=\"text-align: right;\">\n",
       "      <th></th>\n",
       "      <th>Explanatory variable</th>\n",
       "      <th>Odds ratio</th>\n",
       "    </tr>\n",
       "  </thead>\n",
       "  <tbody>\n",
       "    <tr>\n",
       "      <th>0</th>\n",
       "      <td>Sex</td>\n",
       "      <td>0.87</td>\n",
       "    </tr>\n",
       "    <tr>\n",
       "      <th>1</th>\n",
       "      <td>Daily Internet use</td>\n",
       "      <td>4.16</td>\n",
       "    </tr>\n",
       "    <tr>\n",
       "      <th>2</th>\n",
       "      <td>Age</td>\n",
       "      <td>0.81</td>\n",
       "    </tr>\n",
       "    <tr>\n",
       "      <th>3</th>\n",
       "      <td>Income</td>\n",
       "      <td>1.01</td>\n",
       "    </tr>\n",
       "    <tr>\n",
       "      <th>4</th>\n",
       "      <td>Size</td>\n",
       "      <td>0.85</td>\n",
       "    </tr>\n",
       "    <tr>\n",
       "      <th>5</th>\n",
       "      <td>Education</td>\n",
       "      <td>0.97</td>\n",
       "    </tr>\n",
       "    <tr>\n",
       "      <th>6</th>\n",
       "      <td>Intercept</td>\n",
       "      <td>0.66</td>\n",
       "    </tr>\n",
       "  </tbody>\n",
       "</table>\n",
       "</div>"
      ],
      "text/plain": [
       "  Explanatory variable  Odds ratio\n",
       "0                  Sex        0.87\n",
       "1   Daily Internet use        4.16\n",
       "2                  Age        0.81\n",
       "3               Income        1.01\n",
       "4                 Size        0.85\n",
       "5            Education        0.97\n",
       "6            Intercept        0.66"
      ]
     },
     "execution_count": 8,
     "metadata": {},
     "output_type": "execute_result"
    }
   ],
   "source": [
    "df = DataFrame({\"Explanatory variable\":[\"Sex\",\"Daily Internet use\",\"Age\",\"Income\",\"Size\",\"Education\",\"Intercept\"], \"Odds ratio\":[0.87, 4.16, 0.81, 1.01, 0.85, 0.97, 0.66]} )\n",
    "df"
   ]
  },
  {
   "cell_type": "markdown",
   "metadata": {},
   "source": [
    "# From this table we conclude that"
   ]
  },
  {
   "cell_type": "code",
   "execution_count": 10,
   "metadata": {},
   "outputs": [
    {
     "name": "stdout",
     "output_type": "stream",
     "text": [
      "Females are 0.87 times as likely (13% less likely) to use the website as males. Daily Internet\n",
      "users are 4.16 times as likely to use the website as their counterparts. Older-aged people are less\n",
      "likely to use the website than younger-aged people. Those from larger communities are less likely to\n",
      "use the website than those from smaller communities. Those with different incomes and/or educations\n",
      "are about equally likely to use the website, because they aren’t significantly different from\n"
     ]
    }
   ],
   "source": [
    "print(\"\"\"Females are 0.87 times as likely (13% less likely) to use the website as males. Daily Internet\n",
    "users are 4.16 times as likely to use the website as their counterparts. Older-aged people are less\n",
    "likely to use the website than younger-aged people. Those from larger communities are less likely to\n",
    "use the website than those from smaller communities. Those with different incomes and/or educations\n",
    "are about equally likely to use the website, because they aren’t significantly different from\"\"\")"
   ]
  },
  {
   "cell_type": "code",
   "execution_count": 12,
   "metadata": {},
   "outputs": [
    {
     "name": "stdout",
     "output_type": "stream",
     "text": [
      "Regression coefficient is: b1 = log(odds)\n",
      "Thus we obtain, Sex: −0.1393, Daily Internet use: 1.4255,\n",
      "Age: −0.2107, Income: 0.01, Size: −0.1625,\n",
      "Education: −0.0305, Intercept: −0.4155. (c) 0.6537.\n"
     ]
    }
   ],
   "source": [
    "print(\"Regression coefficient is: b1 = log(odds)\")\n",
    "print(\"\"\"Thus we obtain, Sex: −0.1393, Daily Internet use: 1.4255,\n",
    "Age: −0.2107, Income: 0.01, Size: −0.1625,\n",
    "Education: −0.0305, Intercept: −0.4155. (c) 0.6537.\"\"\")"
   ]
  },
  {
   "cell_type": "code",
   "execution_count": null,
   "metadata": {},
   "outputs": [],
   "source": []
  }
 ],
 "metadata": {
  "kernelspec": {
   "display_name": "Python 3",
   "language": "python",
   "name": "python3"
  },
  "language_info": {
   "codemirror_mode": {
    "name": "ipython",
    "version": 3
   },
   "file_extension": ".py",
   "mimetype": "text/x-python",
   "name": "python",
   "nbconvert_exporter": "python",
   "pygments_lexer": "ipython3",
   "version": "3.7.6"
  }
 },
 "nbformat": 4,
 "nbformat_minor": 4
}
