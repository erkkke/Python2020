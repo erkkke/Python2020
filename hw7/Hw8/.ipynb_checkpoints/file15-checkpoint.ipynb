{
 "cells": [
  {
   "cell_type": "code",
   "execution_count": 1,
   "metadata": {},
   "outputs": [],
   "source": [
    "import matplotlib.pyplot as plt\n",
    "import math\n",
    "import numpy as np\n",
    "from sklearn.linear_model import LogisticRegression\n",
    "from sklearn.metrics import classification_report, confusion_matrix"
   ]
  },
  {
   "cell_type": "code",
   "execution_count": 2,
   "metadata": {},
   "outputs": [
    {
     "name": "stdout",
     "output_type": "stream",
     "text": [
      "\n",
      "log(odds) = B0 + B1*x\n",
      "p / 1 - p  = e^(b0 + b1*x),  b1 = 2\n",
      "p / 1 - p = (e^b0) * (e^2x)\n",
      "from this, we conclude that the odds are increased by a factor e^2\n",
      "\n"
     ]
    }
   ],
   "source": [
    "print(\"\"\"\n",
    "log(odds) = B0 + B1*x\n",
    "p / 1 - p  = e^(b0 + b1*x),  b1 = 2\n",
    "p / 1 - p = (e^b0) * (e^2x)\n",
    "from this, we conclude that the odds are increased by a factor e^2\n",
    "\"\"\")"
   ]
  },
  {
   "cell_type": "code",
   "execution_count": 3,
   "metadata": {},
   "outputs": [
    {
     "name": "stdout",
     "output_type": "stream",
     "text": [
      "b) log(10 / 1 - p) = b0 + b1*x,  x = 0\n",
      "   log(p / 1 - p) = b0\n",
      "   b0  equals to log(odd) of an event when x = 0\n"
     ]
    }
   ],
   "source": [
    "print( \"\"\"b) log(10 / 1 - p) = b0 + b1*x,  x = 0\n",
    "   log(p / 1 - p) = b0\n",
    "   b0  equals to log(odd) of an event when x = 0\"\"\")"
   ]
  },
  {
   "cell_type": "code",
   "execution_count": 4,
   "metadata": {},
   "outputs": [
    {
     "name": "stdout",
     "output_type": "stream",
     "text": [
      "c) odds = p / 1 - p\n"
     ]
    }
   ],
   "source": [
    "print(\"c) odds = p / 1 - p\")"
   ]
  },
  {
   "cell_type": "code",
   "execution_count": null,
   "metadata": {},
   "outputs": [],
   "source": []
  }
 ],
 "metadata": {
  "kernelspec": {
   "display_name": "Python 3",
   "language": "python",
   "name": "python3"
  },
  "language_info": {
   "codemirror_mode": {
    "name": "ipython",
    "version": 3
   },
   "file_extension": ".py",
   "mimetype": "text/x-python",
   "name": "python",
   "nbconvert_exporter": "python",
   "pygments_lexer": "ipython3",
   "version": "3.7.6"
  }
 },
 "nbformat": 4,
 "nbformat_minor": 4
}
