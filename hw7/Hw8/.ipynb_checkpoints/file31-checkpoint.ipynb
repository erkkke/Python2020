{
 "cells": [
  {
   "cell_type": "code",
   "execution_count": 1,
   "metadata": {},
   "outputs": [],
   "source": [
    "import matplotlib.pyplot as plt\n",
    "import numpy as np\n",
    "import pandas as pd"
   ]
  },
  {
   "cell_type": "code",
   "execution_count": 2,
   "metadata": {},
   "outputs": [
    {
     "data": {
      "text/html": [
       "<div>\n",
       "<style scoped>\n",
       "    .dataframe tbody tr th:only-of-type {\n",
       "        vertical-align: middle;\n",
       "    }\n",
       "\n",
       "    .dataframe tbody tr th {\n",
       "        vertical-align: top;\n",
       "    }\n",
       "\n",
       "    .dataframe thead th {\n",
       "        text-align: right;\n",
       "    }\n",
       "</style>\n",
       "<table border=\"1\" class=\"dataframe\">\n",
       "  <thead>\n",
       "    <tr style=\"text-align: right;\">\n",
       "      <th></th>\n",
       "      <th>Over 40</th>\n",
       "      <th>Not over 40</th>\n",
       "    </tr>\n",
       "  </thead>\n",
       "  <tbody>\n",
       "    <tr>\n",
       "      <th>Terminated</th>\n",
       "      <td>17</td>\n",
       "      <td>71</td>\n",
       "    </tr>\n",
       "    <tr>\n",
       "      <th>Not terminated</th>\n",
       "      <td>564</td>\n",
       "      <td>835</td>\n",
       "    </tr>\n",
       "  </tbody>\n",
       "</table>\n",
       "</div>"
      ],
      "text/plain": [
       "                Over 40  Not over 40\n",
       "Terminated           17           71\n",
       "Not terminated      564          835"
      ]
     },
     "execution_count": 2,
     "metadata": {},
     "output_type": "execute_result"
    }
   ],
   "source": [
    "data = {\n",
    "    \"Over 40\" : [17, 564],\n",
    "    \"Not over 40\" : [71, 835],\n",
    "    \"Terminated\" : [17, 71],\n",
    "    \"Not terminated\" : [564, 835],\n",
    "    }\n",
    "df = pd.DataFrame(data,\n",
    "                 pd.Index([\"Terminated\", \"Not terminated\"],),\n",
    "                 pd.Index([\"Over 40\", \"Not over 40\"]))\n",
    "df"
   ]
  },
  {
   "cell_type": "code",
   "execution_count": 3,
   "metadata": {},
   "outputs": [
    {
     "name": "stdout",
     "output_type": "stream",
     "text": [
      "The logistic regression model for men, who is not over 40 and terminated: -3.501840907441843\n",
      "The logistic regression model for men, who is over 40 and terminated: -2.46475184780954\n"
     ]
    }
   ],
   "source": [
    "p1 = 17/581\n",
    "odds1 = np.log(p1/(1-p1))\n",
    "print(f'The logistic regression model for men, who is not over 40 and terminated: {odds1}')\n",
    "p2 = 71/(906)\n",
    "odds2 = np.log(p2/(1-p2))\n",
    "print(f'The logistic regression model for men, who is over 40 and terminated: {odds2}')"
   ]
  },
  {
   "cell_type": "code",
   "execution_count": 4,
   "metadata": {},
   "outputs": [
    {
     "name": "stdout",
     "output_type": "stream",
     "text": [
      "b0 = log(p1/1-p1) = -3.501840907441843\n",
      "b1 = log(p2/1-p2) - b0 = 1.037089059632303\n"
     ]
    }
   ],
   "source": [
    "print(f'b0 = log(p1/1-p1) = {odds1}')\n",
    "b1 = odds2 - odds1\n",
    "print(f'b1 = log(p2/1-p2) - b0 = {b1}')\n"
   ]
  },
  {
   "cell_type": "code",
   "execution_count": 5,
   "metadata": {},
   "outputs": [
    {
     "name": "stdout",
     "output_type": "stream",
     "text": [
      "a) ANSWER:  log(odds) = -3.501840907441843 + 1.037089059632303x\n"
     ]
    }
   ],
   "source": [
    "print(f'a) ANSWER:  log(odds) = {odds1} + {b1}x')"
   ]
  },
  {
   "cell_type": "code",
   "execution_count": 6,
   "metadata": {},
   "outputs": [
    {
     "name": "stdout",
     "output_type": "stream",
     "text": [
      "c) ANSWER:  Confidence interval is ( 1.6414879307806993 , 4.817560854121677 )\n"
     ]
    }
   ],
   "source": [
    "b1 = 1.0371\n",
    "SE = 0.2755\n",
    "z = 1.96\n",
    "e = 2.71\n",
    "print(\"c)\",\"ANSWER:  Confidence interval is\",\"(\",e**(b1 - z*SE),\",\",e**(b1 + z*SE),\")\")"
   ]
  }
 ],
 "metadata": {
  "kernelspec": {
   "display_name": "Python 3",
   "language": "python",
   "name": "python3"
  },
  "language_info": {
   "codemirror_mode": {
    "name": "ipython",
    "version": 3
   },
   "file_extension": ".py",
   "mimetype": "text/x-python",
   "name": "python",
   "nbconvert_exporter": "python",
   "pygments_lexer": "ipython3",
   "version": "3.7.6"
  }
 },
 "nbformat": 4,
 "nbformat_minor": 4
}
