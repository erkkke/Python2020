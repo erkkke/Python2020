{
 "cells": [
  {
   "cell_type": "code",
   "execution_count": 13,
   "metadata": {},
   "outputs": [],
   "source": [
    "import matplotlib.pyplot as plt\n",
    "import numpy as np\n",
    "import pandas as pd"
   ]
  },
  {
   "cell_type": "code",
   "execution_count": 14,
   "metadata": {},
   "outputs": [],
   "source": [
    "l = 91 #listed\n",
    "not_l = 109 #not listed\n",
    "high = 73 #high_tech\n",
    "not_high = 75 #not high-tech"
   ]
  },
  {
   "cell_type": "code",
   "execution_count": 15,
   "metadata": {},
   "outputs": [
    {
     "name": "stdout",
     "output_type": "stream",
     "text": [
      "p1 = 0.8021978021978022\n",
      "odds1 = 4.055555555555556\n"
     ]
    }
   ],
   "source": [
    "#a)\n",
    "p1 = high / l\n",
    "odds1 = p1 / (1 - p1)\n",
    "print(f'p1 = {p1}')\n",
    "print(f'odds1 = {odds1}')"
   ]
  },
  {
   "cell_type": "code",
   "execution_count": 16,
   "metadata": {},
   "outputs": [
    {
     "name": "stdout",
     "output_type": "stream",
     "text": [
      "p0 = 0.6880733944954128\n",
      "odds0 = 2.205882352941176\n"
     ]
    }
   ],
   "source": [
    "#b)\n",
    "p0 = not_high / not_l\n",
    "odds0 = p0 / (1 - p0)\n",
    "print(f'p0 = {p0}')\n",
    "print(f'odds0 = {odds0}')"
   ]
  },
  {
   "cell_type": "code",
   "execution_count": 17,
   "metadata": {},
   "outputs": [
    {
     "name": "stdout",
     "output_type": "stream",
     "text": [
      "odds ratio = 1.838518518518519\n"
     ]
    }
   ],
   "source": [
    "#c)\n",
    "odds_ratio = odds1/ odds0\n",
    "print(f'odds ratio = {odds_ratio}')"
   ]
  },
  {
   "cell_type": "code",
   "execution_count": null,
   "metadata": {},
   "outputs": [],
   "source": []
  }
 ],
 "metadata": {
  "kernelspec": {
   "display_name": "Python 3",
   "language": "python",
   "name": "python3"
  },
  "language_info": {
   "codemirror_mode": {
    "name": "ipython",
    "version": 3
   },
   "file_extension": ".py",
   "mimetype": "text/x-python",
   "name": "python",
   "nbconvert_exporter": "python",
   "pygments_lexer": "ipython3",
   "version": "3.7.6"
  }
 },
 "nbformat": 4,
 "nbformat_minor": 2
}
