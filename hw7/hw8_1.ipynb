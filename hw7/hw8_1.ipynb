{
 "cells": [
  {
   "cell_type": "code",
   "execution_count": null,
   "metadata": {},
   "outputs": [],
   "source": [
    "#task 1\n",
    "def odds(p, n): #probability of success / probability of failure\n",
    "    return p / (n - p)\n",
    "w = 140\n",
    "m = 130\n",
    "wa = 65\n",
    "ma = 67\n",
    "print('men selected Commercial A:' + str(ma / m))\n",
    "print('men selected Commercial B:' + str((m - ma) / m))\n",
    "print('women selected Commercial A:' + str(wa / w))\n",
    "print('women selected Commercial A:' + str((w - wa) / w))\n",
    "print('odds for men: ' + str(odds(ma, m)))\n",
    "print('odds for women: ' + str(odds(wa, w)))"
   ]
  },
  {
   "cell_type": "code",
   "execution_count": null,
   "metadata": {},
   "outputs": [],
   "source": []
  }
 ],
 "metadata": {
  "kernelspec": {
   "display_name": "Python 3",
   "language": "python",
   "name": "python3"
  },
  "language_info": {
   "codemirror_mode": {
    "name": "ipython",
    "version": 3
   },
   "file_extension": ".py",
   "mimetype": "text/x-python",
   "name": "python",
   "nbconvert_exporter": "python",
   "pygments_lexer": "ipython3",
   "version": "3.8.1"
  }
 },
 "nbformat": 4,
 "nbformat_minor": 2
}
