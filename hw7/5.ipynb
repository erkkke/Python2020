{
 "cells": [
  {
   "cell_type": "markdown",
   "metadata": {},
   "source": [
    "## Problem 5"
   ]
  },
  {
   "cell_type": "code",
   "execution_count": 1,
   "metadata": {},
   "outputs": [],
   "source": [
    "from scipy.stats import f_oneway"
   ]
  },
  {
   "cell_type": "code",
   "execution_count": 2,
   "metadata": {},
   "outputs": [],
   "source": [
    "# Data\n",
    "data1 = [810, 820, 820, 835, 835, 835]\n",
    "data2 = [840, 840, 840, 845, 855, 850]\n",
    "data3 = [785, 790, 785, 760, 760, 770]"
   ]
  },
  {
   "cell_type": "code",
   "execution_count": 3,
   "metadata": {},
   "outputs": [
    {
     "name": "stdout",
     "output_type": "stream",
     "text": [
      "Reject the null hyp (means are not equal) 2.359515100771844e-08\n"
     ]
    }
   ],
   "source": [
    "# H0: mean1 = mean2 = mean3\n",
    "# H1: mean1 != mean2 != mean3\n",
    "stat, p = f_oneway(data1, data2, data3)\n",
    "if p <= 0.05:\n",
    "    print('Reject the null hyp (means are not equal)', p)\n",
    "else:\n",
    "    print('Cannot reject the null hyp (means are equal)')"
   ]
  },
  {
   "cell_type": "code",
   "execution_count": null,
   "metadata": {},
   "outputs": [],
   "source": []
  },
  {
   "cell_type": "code",
   "execution_count": null,
   "metadata": {},
   "outputs": [],
   "source": []
  }
 ],
 "metadata": {
  "kernelspec": {
   "display_name": "Python 3",
   "language": "python",
   "name": "python3"
  },
  "language_info": {
   "codemirror_mode": {
    "name": "ipython",
    "version": 3
   },
   "file_extension": ".py",
   "mimetype": "text/x-python",
   "name": "python",
   "nbconvert_exporter": "python",
   "pygments_lexer": "ipython3",
   "version": "3.8.1"
  }
 },
 "nbformat": 4,
 "nbformat_minor": 2
}
