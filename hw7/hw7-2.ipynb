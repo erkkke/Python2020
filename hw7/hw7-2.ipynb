{
 "cells": [
  {
   "cell_type": "code",
   "execution_count": 49,
   "metadata": {},
   "outputs": [
    {
     "output_type": "stream",
     "name": "stdout",
     "text": "(a) -0.7861478340400764 , 0.685041988858402 , 0.937681716138688\n(b) 0.23485573206799484 , 0.02598824079539614\n(c) -0.7750750908661257\n"
    }
   ],
   "source": [
    "import numpy as np\n",
    "import matplotlib.pyplot as plt\n",
    "import scipy.linalg as la\n",
    "from numpy import array\n",
    "from numpy import mean\n",
    "from numpy import var\n",
    "\n",
    "x = array([1.9, 0.8, 1.1, 0.1, -0.1, 4.4, 4.6, 1.6, 5.5, 3.4])\n",
    "y = array([0.7, -1.0, -0.2, -1.2, -0.1, 3.4, 0.0, 0.8, 3.7, 2.0])\n",
    "\n",
    "result1 = mean(x)\n",
    "result2 = mean(y)\n",
    "\n",
    "s=0\n",
    "n=((x[0]-result1)**2+(x[1]-result1)**2+(x[2]-result1)**2+(x[3]-result1)**2+(x[4]-result1)**2+(x[5]-result1)**2+(x[6]-result1)**2+(x[7]-result1)**2+(x[8]-result1)**2+(x[9]-result1)**2)\n",
    "\n",
    "for i in range(10):\n",
    "    k=(x[i]-result1)*(y[i]-result2)\n",
    "    s+=k\n",
    "b1=s/n\n",
    "b0=result2-b1*result1\n",
    "\n",
    "sd=0 \n",
    "for i in range(10):\n",
    "    sq=((y[i]-b0-b1*x[i])**2)\n",
    "    sd+=sq\n",
    "sd = sd/10\n",
    "\n",
    "print(\"(a)\",b0,\",\",b1,\",\",sd)\n",
    "\n",
    "u = np.zeros(10)\n",
    "for i in range(10):\n",
    "    u[i] = y[i] - b0 - b1*x[i]\n",
    "vu = var(u)\n",
    "va = 0\n",
    "for i in range(10):\n",
    "    va += (x[i]-result1)**2\n",
    "vb1 = vu / va\n",
    "vb0 = vu*((va+(result1**2)*10)/(10*va))\n",
    "print(\"(b)\",vb0,\",\",vb1)\n",
    "\n",
    "twb = (vu*result1)/(va)\n",
    "correlation = -(twb / (vb0*vb1)**0.5)\n",
    "print(\"(c)\", correlation)"
   ]
  },
  {
   "cell_type": "code",
   "execution_count": null,
   "metadata": {},
   "outputs": [],
   "source": []
  }
 ],
 "metadata": {
  "kernelspec": {
   "display_name": "Python 3",
   "language": "python",
   "name": "python3"
  },
  "language_info": {
   "codemirror_mode": {
    "name": "ipython",
    "version": 3
   },
   "file_extension": ".py",
   "mimetype": "text/x-python",
   "name": "python",
   "nbconvert_exporter": "python",
   "pygments_lexer": "ipython3",
   "version": "3.7.6-final"
  }
 },
 "nbformat": 4,
 "nbformat_minor": 4
}